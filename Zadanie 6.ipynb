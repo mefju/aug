{
  "cells": [
    {
      "attachments": {},
      "cell_type": "markdown",
      "metadata": {},
      "source": [
        "# Data Science z Python 3.10. Konwersja modeli (fast.ai)\n",
        "## 🇬🇧 Data Science with Python 3.10. Model conversion (fast.ai)\n",
        "#### 👨‍🏫 PhD Wojciech Oronowicz-Jaśkowiak"
      ]
    },
    {
      "cell_type": "code",
      "execution_count": null,
      "metadata": {},
      "outputs": [],
      "source": [
        "!pip install fastbook\n",
        "import fastbook\n",
        "from fastbook import *\n",
        "from fastai.vision.widgets import *\n",
        "from IPython.core.pylabtools import figsize"
      ]
    },
    {
      "cell_type": "code",
      "execution_count": null,
      "metadata": {
        "colab": {
          "base_uri": "https://localhost:8080/"
        },
        "id": "ZJ_7NniOeAfm",
        "outputId": "711c17d3-411e-4fb7-d07c-888dcab4a4ff"
      },
      "outputs": [],
      "source": [
        "import os\n",
        "from google.colab import drive\n",
        "drive.mount('/content/drive')\n",
        "os.chdir('/content/drive/My Drive/dataset_x4')\n",
        "path = Path('/content/drive/My Drive/dataset_x4')"
      ]
    },
    {
      "cell_type": "code",
      "execution_count": null,
      "metadata": {
        "colab": {
          "base_uri": "https://localhost:8080/",
          "height": 1000
        },
        "id": "TB2e88EGecZg",
        "outputId": "78638b89-bef3-4921-fb43-88f6f87727b0"
      },
      "outputs": [],
      "source": [
        "data = DataBlock(\n",
        "    blocks=(ImageBlock, CategoryBlock),\n",
        "    get_items=get_image_files,\n",
        "    splitter=RandomSplitter(valid_pct=0.2,seed=42),\n",
        "    get_y=parent_label,\n",
        "    item_tfms=Resize(128)\n",
        ")\n",
        "data = data.new(\n",
        "    item_tfms=RandomResizedCrop(128, min_scale=0.5),\n",
        "    batch_tfms=aug_transforms(max_rotate=2.0)\n",
        ")\n",
        "dls = data.dataloaders(path, bs = 32, num_workers = 0)\n",
        "\n",
        "dls.valid.show_batch(max_n=12, nrows=4)\n",
        "learn = vision_learner(dls, alexnet, metrics=accuracy)\n",
        "learn.fit(1)\n",
        "learn.export(fname='export.pkl')"
      ]
    },
    {
      "attachments": {},
      "cell_type": "markdown",
      "metadata": {},
      "source": [
        "### Zadanie 📗\n",
        "Dokonaj konwersji modelu wytrenowanego za pomocą fast.ai do formatu Apple coreML (.mlmodel)."
      ]
    }
  ],
  "metadata": {
    "colab": {
      "provenance": []
    },
    "kernelspec": {
      "display_name": "Python 3",
      "name": "python3"
    },
    "language_info": {
      "name": "python"
    }
  },
  "nbformat": 4,
  "nbformat_minor": 0
}
